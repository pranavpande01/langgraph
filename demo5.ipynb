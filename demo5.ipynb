{
 "cells": [
  {
   "cell_type": "code",
   "execution_count": 30,
   "id": "40e83fbd",
   "metadata": {},
   "outputs": [],
   "source": [
    "from typing import TypedDict, Annotated\n",
    "from pydantic import BaseModel \n",
    "from langchain_core.messages import BaseMessage, HumanMessage\n",
    "from langchain_google_genai import ChatGoogleGenerativeAI\n",
    "from dotenv import load_dotenv\n",
    "from langgraph.graph import StateGraph, START, END\n",
    "from langgraph.graph import add_messages # prebuilt reducer function to append\n",
    "from langgraph.checkpoint.memory import  InMemorySaver #implement persistence in ram\n",
    "\n",
    "load_dotenv()\n",
    "llm=ChatGoogleGenerativeAI(model=\"gemini-2.0-flash-lite\")"
   ]
  },
  {
   "cell_type": "code",
   "execution_count": 31,
   "id": "4b2f25a0",
   "metadata": {},
   "outputs": [],
   "source": [
    "class ChatState(TypedDict):\n",
    "    topic:str\n",
    "    joke:str\n",
    "    explaination:str"
   ]
  },
  {
   "cell_type": "code",
   "execution_count": 32,
   "id": "5b26ae6c",
   "metadata": {},
   "outputs": [],
   "source": [
    "def generate_joke(state:ChatState):\n",
    "    prompt=f\"generate a joke on the topic {state[\"topic\"]}\"\n",
    "    response=llm.invoke(prompt).content\n",
    "\n",
    "    return {'joke':response}\n",
    "  \n",
    "def generate_explaination(state:ChatState):\n",
    "    prompt=f\"write an explaination for the joke:\\n {state[\"joke\"]}\"\n",
    "    response=llm.invoke(prompt).content\n",
    "\n",
    "    return {'explaination':response}\n",
    "  "
   ]
  },
  {
   "cell_type": "code",
   "execution_count": 33,
   "id": "3899e548",
   "metadata": {},
   "outputs": [
    {
     "data": {
      "image/png": "[encoded data removed]",
      "text/plain": [
       "<langgraph.graph.state.CompiledStateGraph object at 0x761a75b8f440>"
      ]
     },
     "execution_count": 33,
     "metadata": {},
     "output_type": "execute_result"
    }
   ],
   "source": [
    "graph=StateGraph(ChatState)\n",
    "\n",
    "#add nodes\n",
    "graph.add_node('joke_node',generate_joke)\n",
    "graph.add_node('explaination_node',generate_explaination)\n",
    "#add edges\n",
    "graph.add_edge(START,'joke_node')\n",
    "graph.add_edge('joke_node','explaination_node')\n",
    "graph.add_edge(\"explaination_node\",END)\n",
    "\n",
    "graph.compile()"
   ]
  },
  {
   "cell_type": "code",
   "execution_count": 34,
   "id": "97c2c2fa",
   "metadata": {},
   "outputs": [],
   "source": [
    "checkpointer=InMemorySaver()\n",
    "workflow=graph.compile(checkpointer=checkpointer)\n",
    "\n",
    "thread_id='1' # a thread is one interaction with the chatbot, like a session id\n",
    "config = {\n",
    "    \"configurable\": {\n",
    "        \"thread_id\": 1\n",
    "    }\n",
    "}\n"
   ]
  },
  {
   "cell_type": "code",
   "execution_count": 35,
   "id": "eccd217d",
   "metadata": {},
   "outputs": [
    {
     "data": {
      "text/plain": [
       "{'topic': 'pizza',\n",
       " 'joke': 'Why did the pizza break up with the cheese? \\n\\nBecause it was *too cheesy*!',\n",
       " 'explaination': 'The joke relies on a pun, which is a play on words. Here\\'s a breakdown:\\n\\n*   **The Setup:** The joke presents a relationship scenario, asking why the pizza and cheese broke up. This sets the stage for a humorous answer.\\n*   **The Pun:** The punchline is \"Because it was *too cheesy*!\"\\n    *   \"Cheesy\" has two meanings:\\n        *   **Literal:** Referring to the cheese on the pizza, which is a key ingredient.\\n        *   **Figurative:** Meaning overly sentimental, corny, or inauthentic (like \"cheesy\" movies or jokes).\\n*   **The Humor:** The joke exploits the double meaning of \"cheesy.\" The pizza \"broke up\" with the cheese because the cheese, in the context of the joke, became \"too cheesy\" in the sense of being overly sentimental, corny, or insincere, which is a common reason for relationships to end. The humor comes from the unexpected application of a common relationship problem to a food item.'}"
      ]
     },
     "execution_count": 35,
     "metadata": {},
     "output_type": "execute_result"
    }
   ],
   "source": [
    "workflow.invoke(\n",
    "    {\n",
    "        'topic':'pizza'\n",
    "    },\n",
    "    config=config\n",
    ")"
   ]
  },
  {
   "cell_type": "code",
   "execution_count": 36,
   "id": "80493cd0",
   "metadata": {},
   "outputs": [
    {
     "data": {
      "text/plain": [
       "StateSnapshot(values={'topic': 'pizza', 'joke': 'Why did the pizza break up with the cheese? \\n\\nBecause it was *too cheesy*!', 'explaination': 'The joke relies on a pun, which is a play on words. Here\\'s a breakdown:\\n\\n*   **The Setup:** The joke presents a relationship scenario, asking why the pizza and cheese broke up. This sets the stage for a humorous answer.\\n*   **The Pun:** The punchline is \"Because it was *too cheesy*!\"\\n    *   \"Cheesy\" has two meanings:\\n        *   **Literal:** Referring to the cheese on the pizza, which is a key ingredient.\\n        *   **Figurative:** Meaning overly sentimental, corny, or inauthentic (like \"cheesy\" movies or jokes).\\n*   **The Humor:** The joke exploits the double meaning of \"cheesy.\" The pizza \"broke up\" with the cheese because the cheese, in the context of the joke, became \"too cheesy\" in the sense of being overly sentimental, corny, or insincere, which is a common reason for relationships to end. The humor comes from the unexpected application of a common relationship problem to a food item.'}, next=(), config={'configurable': {'thread_id': '1', 'checkpoint_ns': '', 'checkpoint_id': '1f08b359-16fd-6919-8002-da8e8aa674f0'}}, metadata={'source': 'loop', 'step': 2, 'parents': {}}, created_at='2025-09-06T15:24:23.803917+00:00', parent_config={'configurable': {'thread_id': '1', 'checkpoint_ns': '', 'checkpoint_id': '1f08b358-ffde-6d90-8001-a9bd7722bfe5'}}, tasks=(), interrupts=())"
      ]
     },
     "execution_count": 36,
     "metadata": {},
     "output_type": "execute_result"
    }
   ],
   "source": [
    "workflow.get_state(config)"
   ]
  },
  {
   "cell_type": "code",
   "execution_count": 37,
   "id": "3a40419a",
   "metadata": {},
   "outputs": [
    {
     "data": {
      "text/plain": [
       "[StateSnapshot(values={'topic': 'pizza', 'joke': 'Why did the pizza break up with the cheese? \\n\\nBecause it was *too cheesy*!', 'explaination': 'The joke relies on a pun, which is a play on words. Here\\'s a breakdown:\\n\\n*   **The Setup:** The joke presents a relationship scenario, asking why the pizza and cheese broke up. This sets the stage for a humorous answer.\\n*   **The Pun:** The punchline is \"Because it was *too cheesy*!\"\\n    *   \"Cheesy\" has two meanings:\\n        *   **Literal:** Referring to the cheese on the pizza, which is a key ingredient.\\n        *   **Figurative:** Meaning overly sentimental, corny, or inauthentic (like \"cheesy\" movies or jokes).\\n*   **The Humor:** The joke exploits the double meaning of \"cheesy.\" The pizza \"broke up\" with the cheese because the cheese, in the context of the joke, became \"too cheesy\" in the sense of being overly sentimental, corny, or insincere, which is a common reason for relationships to end. The humor comes from the unexpected application of a common relationship problem to a food item.'}, next=(), config={'configurable': {'thread_id': '1', 'checkpoint_ns': '', 'checkpoint_id': '1f08b359-16fd-6919-8002-da8e8aa674f0'}}, metadata={'source': 'loop', 'step': 2, 'parents': {}}, created_at='2025-09-06T15:24:23.803917+00:00', parent_config={'configurable': {'thread_id': '1', 'checkpoint_ns': '', 'checkpoint_id': '1f08b358-ffde-6d90-8001-a9bd7722bfe5'}}, tasks=(), interrupts=()),\n",
       " StateSnapshot(values={'topic': 'pizza', 'joke': 'Why did the pizza break up with the cheese? \\n\\nBecause it was *too cheesy*!'}, next=('explaination_node',), config={'configurable': {'thread_id': '1', 'checkpoint_ns': '', 'checkpoint_id': '1f08b358-ffde-6d90-8001-a9bd7722bfe5'}}, metadata={'source': 'loop', 'step': 1, 'parents': {}}, created_at='2025-09-06T15:24:21.379608+00:00', parent_config={'configurable': {'thread_id': '1', 'checkpoint_ns': '', 'checkpoint_id': '1f08b358-f866-6bc4-8000-a642bdee6ba1'}}, tasks=(PregelTask(id='90eddc66-6bfe-81e0-bf47-d4370fae81e6', name='explaination_node', path=('__pregel_pull', 'explaination_node'), error=None, interrupts=(), state=None, result={'explaination': 'The joke relies on a pun, which is a play on words. Here\\'s a breakdown:\\n\\n*   **The Setup:** The joke presents a relationship scenario, asking why the pizza and cheese broke up. This sets the stage for a humorous answer.\\n*   **The Pun:** The punchline is \"Because it was *too cheesy*!\"\\n    *   \"Cheesy\" has two meanings:\\n        *   **Literal:** Referring to the cheese on the pizza, which is a key ingredient.\\n        *   **Figurative:** Meaning overly sentimental, corny, or inauthentic (like \"cheesy\" movies or jokes).\\n*   **The Humor:** The joke exploits the double meaning of \"cheesy.\" The pizza \"broke up\" with the cheese because the cheese, in the context of the joke, became \"too cheesy\" in the sense of being overly sentimental, corny, or insincere, which is a common reason for relationships to end. The humor comes from the unexpected application of a common relationship problem to a food item.'}),), interrupts=()),\n",
       " StateSnapshot(values={'topic': 'pizza'}, next=('joke_node',), config={'configurable': {'thread_id': '1', 'checkpoint_ns': '', 'checkpoint_id': '1f08b358-f866-6bc4-8000-a642bdee6ba1'}}, metadata={'source': 'loop', 'step': 0, 'parents': {}}, created_at='2025-09-06T15:24:20.596410+00:00', parent_config={'configurable': {'thread_id': '1', 'checkpoint_ns': '', 'checkpoint_id': '1f08b358-f861-675b-bfff-3895e5b48281'}}, tasks=(PregelTask(id='4e5b46b9-e678-98ee-ebbd-f1127560b859', name='joke_node', path=('__pregel_pull', 'joke_node'), error=None, interrupts=(), state=None, result={'joke': 'Why did the pizza break up with the cheese? \\n\\nBecause it was *too cheesy*!'}),), interrupts=()),\n",
       " StateSnapshot(values={}, next=('__start__',), config={'configurable': {'thread_id': '1', 'checkpoint_ns': '', 'checkpoint_id': '1f08b358-f861-675b-bfff-3895e5b48281'}}, metadata={'source': 'input', 'step': -1, 'parents': {}}, created_at='2025-09-06T15:24:20.594254+00:00', parent_config=None, tasks=(PregelTask(id='95553fde-2215-aba1-d0f6-cc17f852365a', name='__start__', path=('__pregel_pull', '__start__'), error=None, interrupts=(), state=None, result={'topic': 'pizza'}),), interrupts=())]"
      ]
     },
     "execution_count": 37,
     "metadata": {},
     "output_type": "execute_result"
    }
   ],
   "source": [
    "list(workflow.get_state_history(config))\n",
    "\n",
    "#before end\n",
    "#before explaination\n",
    "#before gegenerate joke\n",
    "#before start"
   ]
  },
  {
   "cell_type": "code",
   "execution_count": 38,
   "id": "eb60a6b4",
   "metadata": {},
   "outputs": [
    {
     "data": {
      "text/plain": [
       "{'topic': 'pasta',\n",
       " 'joke': \"Why did the pasta break up with the olive oil? \\n\\nBecause they just couldn't see eye to eye... and he was too saucy!\",\n",
       " 'explaination': 'Here\\'s an explanation of the joke:\\n\\n*   **\"Why did the pasta break up with the olive oil?\"** This sets up the premise of the joke, implying a relationship between pasta and olive oil.\\n*   **\"Because they just couldn\\'t see eye to eye...\"** This plays on the idiom \"see eye to eye,\" which means to agree or have the same viewpoint. It\\'s a pun, as pasta and olive oil are ingredients, they literally can\\'t see with eyes.\\n*   **\"...and he was too saucy!\"** This is another pun. \"Saucy\" can mean both \"having a sauce on it\" (referring to the olive oil and pasta) and \"impudent\" or \"rude\" (referring to the olive oil\\'s personality). The joke is that the olive oil\\'s behavior was a problem in their relationship.\\n\\n**In summary:** The joke uses wordplay (puns) to create humor. It personifies pasta and olive oil as having a relationship and then uses idioms and double meanings to explain their \"breakup\".'}"
      ]
     },
     "execution_count": 38,
     "metadata": {},
     "output_type": "execute_result"
    }
   ],
   "source": [
    "config2 = {\n",
    "    \"configurable\": {\n",
    "        \"thread_id\": 2\n",
    "    }\n",
    "}\n",
    "\n",
    "workflow.invoke(\n",
    "    {\n",
    "        'topic':'pasta'\n",
    "    },\n",
    "    config=config2\n",
    ")"
   ]
  },
  {
   "cell_type": "code",
   "execution_count": 41,
   "id": "f7afef6e",
   "metadata": {},
   "outputs": [
    {
     "data": {
      "text/plain": [
       "[StateSnapshot(values={'topic': 'pizza', 'joke': 'Why did the pizza break up with the cheese? \\n\\nBecause it was *too cheesy*!', 'explaination': 'The joke relies on a pun, which is a play on words. Here\\'s a breakdown:\\n\\n*   **The Setup:** The joke presents a relationship scenario, asking why the pizza and cheese broke up. This sets the stage for a humorous answer.\\n*   **The Pun:** The punchline is \"Because it was *too cheesy*!\"\\n    *   \"Cheesy\" has two meanings:\\n        *   **Literal:** Referring to the cheese on the pizza, which is a key ingredient.\\n        *   **Figurative:** Meaning overly sentimental, corny, or inauthentic (like \"cheesy\" movies or jokes).\\n*   **The Humor:** The joke exploits the double meaning of \"cheesy.\" The pizza \"broke up\" with the cheese because the cheese, in the context of the joke, became \"too cheesy\" in the sense of being overly sentimental, corny, or insincere, which is a common reason for relationships to end. The humor comes from the unexpected application of a common relationship problem to a food item.'}, next=(), config={'configurable': {'thread_id': '1', 'checkpoint_ns': '', 'checkpoint_id': '1f08b359-16fd-6919-8002-da8e8aa674f0'}}, metadata={'source': 'loop', 'step': 2, 'parents': {}}, created_at='2025-09-06T15:24:23.803917+00:00', parent_config={'configurable': {'thread_id': '1', 'checkpoint_ns': '', 'checkpoint_id': '1f08b358-ffde-6d90-8001-a9bd7722bfe5'}}, tasks=(), interrupts=()),\n",
       " StateSnapshot(values={'topic': 'pizza', 'joke': 'Why did the pizza break up with the cheese? \\n\\nBecause it was *too cheesy*!'}, next=('explaination_node',), config={'configurable': {'thread_id': '1', 'checkpoint_ns': '', 'checkpoint_id': '1f08b358-ffde-6d90-8001-a9bd7722bfe5'}}, metadata={'source': 'loop', 'step': 1, 'parents': {}}, created_at='2025-09-06T15:24:21.379608+00:00', parent_config={'configurable': {'thread_id': '1', 'checkpoint_ns': '', 'checkpoint_id': '1f08b358-f866-6bc4-8000-a642bdee6ba1'}}, tasks=(PregelTask(id='90eddc66-6bfe-81e0-bf47-d4370fae81e6', name='explaination_node', path=('__pregel_pull', 'explaination_node'), error=None, interrupts=(), state=None, result={'explaination': 'The joke relies on a pun, which is a play on words. Here\\'s a breakdown:\\n\\n*   **The Setup:** The joke presents a relationship scenario, asking why the pizza and cheese broke up. This sets the stage for a humorous answer.\\n*   **The Pun:** The punchline is \"Because it was *too cheesy*!\"\\n    *   \"Cheesy\" has two meanings:\\n        *   **Literal:** Referring to the cheese on the pizza, which is a key ingredient.\\n        *   **Figurative:** Meaning overly sentimental, corny, or inauthentic (like \"cheesy\" movies or jokes).\\n*   **The Humor:** The joke exploits the double meaning of \"cheesy.\" The pizza \"broke up\" with the cheese because the cheese, in the context of the joke, became \"too cheesy\" in the sense of being overly sentimental, corny, or insincere, which is a common reason for relationships to end. The humor comes from the unexpected application of a common relationship problem to a food item.'}),), interrupts=()),\n",
       " StateSnapshot(values={'topic': 'pizza'}, next=('joke_node',), config={'configurable': {'thread_id': '1', 'checkpoint_ns': '', 'checkpoint_id': '1f08b358-f866-6bc4-8000-a642bdee6ba1'}}, metadata={'source': 'loop', 'step': 0, 'parents': {}}, created_at='2025-09-06T15:24:20.596410+00:00', parent_config={'configurable': {'thread_id': '1', 'checkpoint_ns': '', 'checkpoint_id': '1f08b358-f861-675b-bfff-3895e5b48281'}}, tasks=(PregelTask(id='4e5b46b9-e678-98ee-ebbd-f1127560b859', name='joke_node', path=('__pregel_pull', 'joke_node'), error=None, interrupts=(), state=None, result={'joke': 'Why did the pizza break up with the cheese? \\n\\nBecause it was *too cheesy*!'}),), interrupts=()),\n",
       " StateSnapshot(values={}, next=('__start__',), config={'configurable': {'thread_id': '1', 'checkpoint_ns': '', 'checkpoint_id': '1f08b358-f861-675b-bfff-3895e5b48281'}}, metadata={'source': 'input', 'step': -1, 'parents': {}}, created_at='2025-09-06T15:24:20.594254+00:00', parent_config=None, tasks=(PregelTask(id='95553fde-2215-aba1-d0f6-cc17f852365a', name='__start__', path=('__pregel_pull', '__start__'), error=None, interrupts=(), state=None, result={'topic': 'pizza'}),), interrupts=())]"
      ]
     },
     "execution_count": 41,
     "metadata": {},
     "output_type": "execute_result"
    }
   ],
   "source": [
    "list(workflow.get_state_history(config))"
   ]
  },
  {
   "cell_type": "code",
   "execution_count": 46,
   "id": "7a7b107d",
   "metadata": {},
   "outputs": [
    {
     "data": {
      "text/plain": [
       "[StateSnapshot(values={'topic': 'pasta', 'joke': \"Why did the pasta break up with the olive oil? \\n\\nBecause they just couldn't see eye to eye... and he was too saucy!\", 'explaination': 'Here\\'s an explanation of the joke:\\n\\n*   **\"Why did the pasta break up with the olive oil?\"** This sets up the premise of the joke, implying a relationship between pasta and olive oil.\\n*   **\"Because they just couldn\\'t see eye to eye...\"** This plays on the idiom \"see eye to eye,\" which means to agree or have the same viewpoint. It\\'s a pun, as pasta and olive oil are ingredients, they literally can\\'t see with eyes.\\n*   **\"...and he was too saucy!\"** This is another pun. \"Saucy\" can mean both \"having a sauce on it\" (referring to the olive oil and pasta) and \"impudent\" or \"rude\" (referring to the olive oil\\'s personality). The joke is that the olive oil\\'s behavior was a problem in their relationship.\\n\\n**In summary:** The joke uses wordplay (puns) to create humor. It personifies pasta and olive oil as having a relationship and then uses idioms and double meanings to explain their \"breakup\".'}, next=(), config={'configurable': {'thread_id': '2', 'checkpoint_ns': '', 'checkpoint_id': '1f08b359-37b2-6d0c-8002-4e1cc38e7808'}}, metadata={'source': 'loop', 'step': 2, 'parents': {}}, created_at='2025-09-06T15:24:27.233598+00:00', parent_config={'configurable': {'thread_id': '2', 'checkpoint_ns': '', 'checkpoint_id': '1f08b359-1e9f-6227-8001-446798f2e16e'}}, tasks=(), interrupts=()),\n",
       " StateSnapshot(values={'topic': 'pasta', 'joke': \"Why did the pasta break up with the olive oil? \\n\\nBecause they just couldn't see eye to eye... and he was too saucy!\"}, next=('explaination_node',), config={'configurable': {'thread_id': '2', 'checkpoint_ns': '', 'checkpoint_id': '1f08b359-1e9f-6227-8001-446798f2e16e'}}, metadata={'source': 'loop', 'step': 1, 'parents': {}}, created_at='2025-09-06T15:24:24.604097+00:00', parent_config={'configurable': {'thread_id': '2', 'checkpoint_ns': '', 'checkpoint_id': '1f08b359-174c-6f81-8000-914dab63e948'}}, tasks=(PregelTask(id='e9018099-3bb0-6b12-1c03-4a2da7e0b852', name='explaination_node', path=('__pregel_pull', 'explaination_node'), error=None, interrupts=(), state=None, result={'explaination': 'Here\\'s an explanation of the joke:\\n\\n*   **\"Why did the pasta break up with the olive oil?\"** This sets up the premise of the joke, implying a relationship between pasta and olive oil.\\n*   **\"Because they just couldn\\'t see eye to eye...\"** This plays on the idiom \"see eye to eye,\" which means to agree or have the same viewpoint. It\\'s a pun, as pasta and olive oil are ingredients, they literally can\\'t see with eyes.\\n*   **\"...and he was too saucy!\"** This is another pun. \"Saucy\" can mean both \"having a sauce on it\" (referring to the olive oil and pasta) and \"impudent\" or \"rude\" (referring to the olive oil\\'s personality). The joke is that the olive oil\\'s behavior was a problem in their relationship.\\n\\n**In summary:** The joke uses wordplay (puns) to create humor. It personifies pasta and olive oil as having a relationship and then uses idioms and double meanings to explain their \"breakup\".'}),), interrupts=()),\n",
       " StateSnapshot(values={'topic': 'pasta'}, next=('joke_node',), config={'configurable': {'thread_id': '2', 'checkpoint_ns': '', 'checkpoint_id': '1f08b359-174c-6f81-8000-914dab63e948'}}, metadata={'source': 'loop', 'step': 0, 'parents': {}}, created_at='2025-09-06T15:24:23.836442+00:00', parent_config={'configurable': {'thread_id': '2', 'checkpoint_ns': '', 'checkpoint_id': '1f08b359-174a-6402-bfff-f259f67c8ab9'}}, tasks=(PregelTask(id='96ef0a46-e6e7-05f9-c84a-22ebf2403e93', name='joke_node', path=('__pregel_pull', 'joke_node'), error=None, interrupts=(), state=None, result={'joke': \"Why did the pasta break up with the olive oil? \\n\\nBecause they just couldn't see eye to eye... and he was too saucy!\"}),), interrupts=()),\n",
       " StateSnapshot(values={}, next=('__start__',), config={'configurable': {'thread_id': '2', 'checkpoint_ns': '', 'checkpoint_id': '1f08b359-174a-6402-bfff-f259f67c8ab9'}}, metadata={'source': 'input', 'step': -1, 'parents': {}}, created_at='2025-09-06T15:24:23.835331+00:00', parent_config=None, tasks=(PregelTask(id='5a593879-63c8-0fce-2332-f6617c55b9e8', name='__start__', path=('__pregel_pull', '__start__'), error=None, interrupts=(), state=None, result={'topic': 'pasta'}),), interrupts=())]"
      ]
     },
     "execution_count": 46,
     "metadata": {},
     "output_type": "execute_result"
    }
   ],
   "source": [
    "list(workflow.get_state_history(config2))"
   ]
  },
  {
   "cell_type": "markdown",
   "id": "b17199d2",
   "metadata": {},
   "source": [
    "Time travel"
   ]
  },
  {
   "cell_type": "code",
   "execution_count": null,
   "id": "dbb859ae",
   "metadata": {},
   "outputs": [
    {
     "data": {
      "text/plain": [
       "StateSnapshot(values={'topic': 'pasta', 'joke': \"Why did the pasta break up with the olive oil? \\n\\nBecause they just couldn't see eye to eye... and he was too saucy!\"}, next=('explaination_node',), config={'configurable': {'thread_id': '2', 'checkpoint_id': '1f08b359-1e9f-6227-8001-446798f2e16e'}}, metadata={'source': 'loop', 'step': 1, 'parents': {}}, created_at='2025-09-06T15:24:24.604097+00:00', parent_config={'configurable': {'thread_id': '2', 'checkpoint_ns': '', 'checkpoint_id': '1f08b359-174c-6f81-8000-914dab63e948'}}, tasks=(PregelTask(id='e9018099-3bb0-6b12-1c03-4a2da7e0b852', name='explaination_node', path=('__pregel_pull', 'explaination_node'), error=None, interrupts=(), state=None, result={'explaination': 'Here\\'s an explanation of the joke:\\n\\n*   **\"Why did the pasta break up with the olive oil?\"** This sets up the premise of the joke, implying a relationship between pasta and olive oil.\\n*   **\"Because they just couldn\\'t see eye to eye...\"** This plays on the idiom \"see eye to eye,\" which means to agree or have the same viewpoint. It\\'s a pun, as pasta and olive oil are ingredients, they literally can\\'t see with eyes.\\n*   **\"...and he was too saucy!\"** This is another pun. \"Saucy\" can mean both \"having a sauce on it\" (referring to the olive oil and pasta) and \"impudent\" or \"rude\" (referring to the olive oil\\'s personality). The joke is that the olive oil\\'s behavior was a problem in their relationship.\\n\\n**In summary:** The joke uses wordplay (puns) to create humor. It personifies pasta and olive oil as having a relationship and then uses idioms and double meanings to explain their \"breakup\".'}),), interrupts=())"
      ]
     },
     "execution_count": 45,
     "metadata": {},
     "output_type": "execute_result"
    }
   ],
   "source": [
    "#get state\n",
    "workflow.get_state({\n",
    "    \"configurable\":{\n",
    "        \"thread_id\":2,\n",
    "        \"checkpoint_id\":\"1f08b359-1e9f-6227-8001-446798f2e16e\"\n",
    "    }\n",
    "})\n"
   ]
  },
  {
   "cell_type": "code",
   "execution_count": 48,
   "id": "0a232de2",
   "metadata": {},
   "outputs": [
    {
     "data": {
      "text/plain": [
       "[StateSnapshot(values={'topic': 'pasta', 'joke': \"Why did the pasta break up with the olive oil? \\n\\nBecause they just couldn't see eye to eye... and he was too saucy!\", 'explaination': 'Here\\'s the breakdown of the joke:\\n\\n*   **Setup:** The joke sets up a relatable situation: a breakup. This immediately grabs the listener\\'s attention.\\n*   **Punchline 1: \"couldn\\'t see eye to eye...\"** This is a common idiom meaning that two people have differing opinions or can\\'t agree on things, which is a frequent cause for breakups. The joke cleverly uses this idiom in a literal sense, referencing the fact that olive oil doesn\\'t have eyes.\\n*   **Punchline 2: \"...and he was too saucy!\"** \"Saucy\" is a pun. It plays on two meanings:\\n    *   **Literal:** Olive oil is used in sauces, so he is literally \"saucy.\"\\n    *   **Figurative:** \"Saucy\" can mean someone is rude, cheeky, or overly familiar. This implies the olive oil had a bad attitude or was too forward, which could also lead to relationship problems.\\n\\n*   **Humor:** The joke\\'s humor comes from the wordplay (pun) and the unexpected combination of food and relationship problems. It uses the familiar theme of a breakup and twists it with a clever, food-related angle.'}, next=(), config={'configurable': {'thread_id': '2', 'checkpoint_ns': '', 'checkpoint_id': '1f08b36c-ebb0-6f1b-8002-bd511069d039'}}, metadata={'source': 'loop', 'step': 2, 'parents': {}}, created_at='2025-09-06T15:33:16.134566+00:00', parent_config={'configurable': {'thread_id': '2', 'checkpoint_ns': '', 'checkpoint_id': '1f08b359-1e9f-6227-8001-446798f2e16e'}}, tasks=(), interrupts=()),\n",
       " StateSnapshot(values={'topic': 'pasta', 'joke': \"Why did the pasta break up with the olive oil? \\n\\nBecause they just couldn't see eye to eye... and he was too saucy!\", 'explaination': 'Here\\'s an explanation of the joke:\\n\\n*   **The Setup:** The joke sets up a relationship between pasta and olive oil, as if they were a couple.\\n*   **The Punchline:** The humor comes from the double meaning of the phrase \"see eye to eye\" and \"too saucy.\"\\n    *   \"**See eye to eye**\" is a common idiom meaning to agree or have similar perspectives. Here, it\\'s used literally, playing on the idea that olive oil and pasta can\\'t physically \"see\" each other, as they are ingredients.\\n    *   \"**Too saucy**\" is a play on words. \"Saucy\" can mean bold or cheeky, but in this context, it refers to olive oil being an ingredient of sauce and therefore, the pasta may not have liked that the olive oil was too \"saucy\".\\n\\nIn short, the joke uses wordplay and a pun to create a humorous situation. It\\'s silly and relies on the audience making a connection between the literal and figurative meanings of the words.'}, next=(), config={'configurable': {'thread_id': '2', 'checkpoint_ns': '', 'checkpoint_id': '1f08b36c-3412-6d01-8002-791c39b57222'}}, metadata={'source': 'loop', 'step': 2, 'parents': {}}, created_at='2025-09-06T15:32:56.880855+00:00', parent_config={'configurable': {'thread_id': '2', 'checkpoint_ns': '', 'checkpoint_id': '1f08b359-1e9f-6227-8001-446798f2e16e'}}, tasks=(), interrupts=()),\n",
       " StateSnapshot(values={'topic': 'pasta', 'joke': \"Why did the pasta break up with the olive oil? \\n\\nBecause they just couldn't see eye to eye... and he was too saucy!\", 'explaination': 'Here\\'s an explanation of the joke:\\n\\n*   **\"Why did the pasta break up with the olive oil?\"** This sets up the premise of the joke, implying a relationship between pasta and olive oil.\\n*   **\"Because they just couldn\\'t see eye to eye...\"** This plays on the idiom \"see eye to eye,\" which means to agree or have the same viewpoint. It\\'s a pun, as pasta and olive oil are ingredients, they literally can\\'t see with eyes.\\n*   **\"...and he was too saucy!\"** This is another pun. \"Saucy\" can mean both \"having a sauce on it\" (referring to the olive oil and pasta) and \"impudent\" or \"rude\" (referring to the olive oil\\'s personality). The joke is that the olive oil\\'s behavior was a problem in their relationship.\\n\\n**In summary:** The joke uses wordplay (puns) to create humor. It personifies pasta and olive oil as having a relationship and then uses idioms and double meanings to explain their \"breakup\".'}, next=(), config={'configurable': {'thread_id': '2', 'checkpoint_ns': '', 'checkpoint_id': '1f08b359-37b2-6d0c-8002-4e1cc38e7808'}}, metadata={'source': 'loop', 'step': 2, 'parents': {}}, created_at='2025-09-06T15:24:27.233598+00:00', parent_config={'configurable': {'thread_id': '2', 'checkpoint_ns': '', 'checkpoint_id': '1f08b359-1e9f-6227-8001-446798f2e16e'}}, tasks=(), interrupts=()),\n",
       " StateSnapshot(values={'topic': 'pasta', 'joke': \"Why did the pasta break up with the olive oil? \\n\\nBecause they just couldn't see eye to eye... and he was too saucy!\"}, next=('explaination_node',), config={'configurable': {'thread_id': '2', 'checkpoint_ns': '', 'checkpoint_id': '1f08b359-1e9f-6227-8001-446798f2e16e'}}, metadata={'source': 'loop', 'step': 1, 'parents': {}}, created_at='2025-09-06T15:24:24.604097+00:00', parent_config={'configurable': {'thread_id': '2', 'checkpoint_ns': '', 'checkpoint_id': '1f08b359-174c-6f81-8000-914dab63e948'}}, tasks=(PregelTask(id='e9018099-3bb0-6b12-1c03-4a2da7e0b852', name='explaination_node', path=('__pregel_pull', 'explaination_node'), error=None, interrupts=(), state=None, result={'explaination': 'Here\\'s an explanation of the joke:\\n\\n*   **\"Why did the pasta break up with the olive oil?\"** This sets up the premise of the joke, implying a relationship between pasta and olive oil.\\n*   **\"Because they just couldn\\'t see eye to eye...\"** This plays on the idiom \"see eye to eye,\" which means to agree or have the same viewpoint. It\\'s a pun, as pasta and olive oil are ingredients, they literally can\\'t see with eyes.\\n*   **\"...and he was too saucy!\"** This is another pun. \"Saucy\" can mean both \"having a sauce on it\" (referring to the olive oil and pasta) and \"impudent\" or \"rude\" (referring to the olive oil\\'s personality). The joke is that the olive oil\\'s behavior was a problem in their relationship.\\n\\n**In summary:** The joke uses wordplay (puns) to create humor. It personifies pasta and olive oil as having a relationship and then uses idioms and double meanings to explain their \"breakup\".'}),), interrupts=()),\n",
       " StateSnapshot(values={'topic': 'pasta'}, next=('joke_node',), config={'configurable': {'thread_id': '2', 'checkpoint_ns': '', 'checkpoint_id': '1f08b359-174c-6f81-8000-914dab63e948'}}, metadata={'source': 'loop', 'step': 0, 'parents': {}}, created_at='2025-09-06T15:24:23.836442+00:00', parent_config={'configurable': {'thread_id': '2', 'checkpoint_ns': '', 'checkpoint_id': '1f08b359-174a-6402-bfff-f259f67c8ab9'}}, tasks=(PregelTask(id='96ef0a46-e6e7-05f9-c84a-22ebf2403e93', name='joke_node', path=('__pregel_pull', 'joke_node'), error=None, interrupts=(), state=None, result={'joke': \"Why did the pasta break up with the olive oil? \\n\\nBecause they just couldn't see eye to eye... and he was too saucy!\"}),), interrupts=()),\n",
       " StateSnapshot(values={}, next=('__start__',), config={'configurable': {'thread_id': '2', 'checkpoint_ns': '', 'checkpoint_id': '1f08b359-174a-6402-bfff-f259f67c8ab9'}}, metadata={'source': 'input', 'step': -1, 'parents': {}}, created_at='2025-09-06T15:24:23.835331+00:00', parent_config=None, tasks=(PregelTask(id='5a593879-63c8-0fce-2332-f6617c55b9e8', name='__start__', path=('__pregel_pull', '__start__'), error=None, interrupts=(), state=None, result={'topic': 'pasta'}),), interrupts=())]"
      ]
     },
     "execution_count": 48,
     "metadata": {},
     "output_type": "execute_result"
    }
   ],
   "source": [
    "#restart from a checkpoint\n",
    "workflow.invoke(None,\n",
    "                {\n",
    "    \"configurable\":{\n",
    "        \"thread_id\":2,\n",
    "        \"checkpoint_id\":\"1f08b359-1e9f-6227-8001-446798f2e16e\"\n",
    "    }}\n",
    "\n",
    "                )\n",
    "\n",
    "list(workflow.get_state_history(config2))"
   ]
  },
  {
   "cell_type": "code",
   "execution_count": 53,
   "id": "4adaded5",
   "metadata": {},
   "outputs": [
    {
     "data": {
      "text/plain": [
       "{'configurable': {'thread_id': '2',\n",
       "  'checkpoint_ns': '',\n",
       "  'checkpoint_id': '1f08b376-bb57-6c24-8003-44fb7eda7707'}}"
      ]
     },
     "execution_count": 53,
     "metadata": {},
     "output_type": "execute_result"
    }
   ],
   "source": [
    "#update state\n",
    "workflow.update_state({\n",
    "    \"configurable\":{\n",
    "        \"thread_id\":2,\n",
    "        \"checkpoint_id\":\"1f08b359-37b2-6d0c-8002-4e1cc38e7808\",\n",
    "        'checkpoint_ns':\"\"\n",
    "    }\n",
    "},\n",
    "#updated value of state \n",
    "{'topic':'samosa'}\n",
    ")"
   ]
  },
  {
   "cell_type": "code",
   "execution_count": 54,
   "id": "6e50c245",
   "metadata": {},
   "outputs": [
    {
     "data": {
      "text/plain": [
       "[StateSnapshot(values={'topic': 'samosa', 'joke': \"Why did the pasta break up with the olive oil? \\n\\nBecause they just couldn't see eye to eye... and he was too saucy!\", 'explaination': 'Here\\'s an explanation of the joke:\\n\\n*   **\"Why did the pasta break up with the olive oil?\"** This sets up the premise of the joke, implying a relationship between pasta and olive oil.\\n*   **\"Because they just couldn\\'t see eye to eye...\"** This plays on the idiom \"see eye to eye,\" which means to agree or have the same viewpoint. It\\'s a pun, as pasta and olive oil are ingredients, they literally can\\'t see with eyes.\\n*   **\"...and he was too saucy!\"** This is another pun. \"Saucy\" can mean both \"having a sauce on it\" (referring to the olive oil and pasta) and \"impudent\" or \"rude\" (referring to the olive oil\\'s personality). The joke is that the olive oil\\'s behavior was a problem in their relationship.\\n\\n**In summary:** The joke uses wordplay (puns) to create humor. It personifies pasta and olive oil as having a relationship and then uses idioms and double meanings to explain their \"breakup\".'}, next=(), config={'configurable': {'thread_id': '2', 'checkpoint_ns': '', 'checkpoint_id': '1f08b376-bb57-6c24-8003-44fb7eda7707'}}, metadata={'source': 'update', 'step': 3, 'parents': {}}, created_at='2025-09-06T15:37:39.500327+00:00', parent_config={'configurable': {'thread_id': '2', 'checkpoint_ns': '', 'checkpoint_id': '1f08b359-37b2-6d0c-8002-4e1cc38e7808'}}, tasks=(), interrupts=()),\n",
       " StateSnapshot(values={'topic': 'pasta', 'joke': \"Why did the pasta break up with the olive oil? \\n\\nBecause they just couldn't see eye to eye... and he was too saucy!\", 'explaination': 'Here\\'s the breakdown of the joke:\\n\\n*   **Setup:** The joke sets up a relatable situation: a breakup. This immediately grabs the listener\\'s attention.\\n*   **Punchline 1: \"couldn\\'t see eye to eye...\"** This is a common idiom meaning that two people have differing opinions or can\\'t agree on things, which is a frequent cause for breakups. The joke cleverly uses this idiom in a literal sense, referencing the fact that olive oil doesn\\'t have eyes.\\n*   **Punchline 2: \"...and he was too saucy!\"** \"Saucy\" is a pun. It plays on two meanings:\\n    *   **Literal:** Olive oil is used in sauces, so he is literally \"saucy.\"\\n    *   **Figurative:** \"Saucy\" can mean someone is rude, cheeky, or overly familiar. This implies the olive oil had a bad attitude or was too forward, which could also lead to relationship problems.\\n\\n*   **Humor:** The joke\\'s humor comes from the wordplay (pun) and the unexpected combination of food and relationship problems. It uses the familiar theme of a breakup and twists it with a clever, food-related angle.'}, next=(), config={'configurable': {'thread_id': '2', 'checkpoint_ns': '', 'checkpoint_id': '1f08b36c-ebb0-6f1b-8002-bd511069d039'}}, metadata={'source': 'loop', 'step': 2, 'parents': {}}, created_at='2025-09-06T15:33:16.134566+00:00', parent_config={'configurable': {'thread_id': '2', 'checkpoint_ns': '', 'checkpoint_id': '1f08b359-1e9f-6227-8001-446798f2e16e'}}, tasks=(), interrupts=()),\n",
       " StateSnapshot(values={'topic': 'pasta', 'joke': \"Why did the pasta break up with the olive oil? \\n\\nBecause they just couldn't see eye to eye... and he was too saucy!\", 'explaination': 'Here\\'s an explanation of the joke:\\n\\n*   **The Setup:** The joke sets up a relationship between pasta and olive oil, as if they were a couple.\\n*   **The Punchline:** The humor comes from the double meaning of the phrase \"see eye to eye\" and \"too saucy.\"\\n    *   \"**See eye to eye**\" is a common idiom meaning to agree or have similar perspectives. Here, it\\'s used literally, playing on the idea that olive oil and pasta can\\'t physically \"see\" each other, as they are ingredients.\\n    *   \"**Too saucy**\" is a play on words. \"Saucy\" can mean bold or cheeky, but in this context, it refers to olive oil being an ingredient of sauce and therefore, the pasta may not have liked that the olive oil was too \"saucy\".\\n\\nIn short, the joke uses wordplay and a pun to create a humorous situation. It\\'s silly and relies on the audience making a connection between the literal and figurative meanings of the words.'}, next=(), config={'configurable': {'thread_id': '2', 'checkpoint_ns': '', 'checkpoint_id': '1f08b36c-3412-6d01-8002-791c39b57222'}}, metadata={'source': 'loop', 'step': 2, 'parents': {}}, created_at='2025-09-06T15:32:56.880855+00:00', parent_config={'configurable': {'thread_id': '2', 'checkpoint_ns': '', 'checkpoint_id': '1f08b359-1e9f-6227-8001-446798f2e16e'}}, tasks=(), interrupts=()),\n",
       " StateSnapshot(values={'topic': 'pasta', 'joke': \"Why did the pasta break up with the olive oil? \\n\\nBecause they just couldn't see eye to eye... and he was too saucy!\", 'explaination': 'Here\\'s an explanation of the joke:\\n\\n*   **\"Why did the pasta break up with the olive oil?\"** This sets up the premise of the joke, implying a relationship between pasta and olive oil.\\n*   **\"Because they just couldn\\'t see eye to eye...\"** This plays on the idiom \"see eye to eye,\" which means to agree or have the same viewpoint. It\\'s a pun, as pasta and olive oil are ingredients, they literally can\\'t see with eyes.\\n*   **\"...and he was too saucy!\"** This is another pun. \"Saucy\" can mean both \"having a sauce on it\" (referring to the olive oil and pasta) and \"impudent\" or \"rude\" (referring to the olive oil\\'s personality). The joke is that the olive oil\\'s behavior was a problem in their relationship.\\n\\n**In summary:** The joke uses wordplay (puns) to create humor. It personifies pasta and olive oil as having a relationship and then uses idioms and double meanings to explain their \"breakup\".'}, next=(), config={'configurable': {'thread_id': '2', 'checkpoint_ns': '', 'checkpoint_id': '1f08b359-37b2-6d0c-8002-4e1cc38e7808'}}, metadata={'source': 'loop', 'step': 2, 'parents': {}}, created_at='2025-09-06T15:24:27.233598+00:00', parent_config={'configurable': {'thread_id': '2', 'checkpoint_ns': '', 'checkpoint_id': '1f08b359-1e9f-6227-8001-446798f2e16e'}}, tasks=(), interrupts=()),\n",
       " StateSnapshot(values={'topic': 'pasta', 'joke': \"Why did the pasta break up with the olive oil? \\n\\nBecause they just couldn't see eye to eye... and he was too saucy!\"}, next=('explaination_node',), config={'configurable': {'thread_id': '2', 'checkpoint_ns': '', 'checkpoint_id': '1f08b359-1e9f-6227-8001-446798f2e16e'}}, metadata={'source': 'loop', 'step': 1, 'parents': {}}, created_at='2025-09-06T15:24:24.604097+00:00', parent_config={'configurable': {'thread_id': '2', 'checkpoint_ns': '', 'checkpoint_id': '1f08b359-174c-6f81-8000-914dab63e948'}}, tasks=(PregelTask(id='e9018099-3bb0-6b12-1c03-4a2da7e0b852', name='explaination_node', path=('__pregel_pull', 'explaination_node'), error=None, interrupts=(), state=None, result={'explaination': 'Here\\'s an explanation of the joke:\\n\\n*   **\"Why did the pasta break up with the olive oil?\"** This sets up the premise of the joke, implying a relationship between pasta and olive oil.\\n*   **\"Because they just couldn\\'t see eye to eye...\"** This plays on the idiom \"see eye to eye,\" which means to agree or have the same viewpoint. It\\'s a pun, as pasta and olive oil are ingredients, they literally can\\'t see with eyes.\\n*   **\"...and he was too saucy!\"** This is another pun. \"Saucy\" can mean both \"having a sauce on it\" (referring to the olive oil and pasta) and \"impudent\" or \"rude\" (referring to the olive oil\\'s personality). The joke is that the olive oil\\'s behavior was a problem in their relationship.\\n\\n**In summary:** The joke uses wordplay (puns) to create humor. It personifies pasta and olive oil as having a relationship and then uses idioms and double meanings to explain their \"breakup\".'}),), interrupts=()),\n",
       " StateSnapshot(values={'topic': 'pasta'}, next=('joke_node',), config={'configurable': {'thread_id': '2', 'checkpoint_ns': '', 'checkpoint_id': '1f08b359-174c-6f81-8000-914dab63e948'}}, metadata={'source': 'loop', 'step': 0, 'parents': {}}, created_at='2025-09-06T15:24:23.836442+00:00', parent_config={'configurable': {'thread_id': '2', 'checkpoint_ns': '', 'checkpoint_id': '1f08b359-174a-6402-bfff-f259f67c8ab9'}}, tasks=(PregelTask(id='96ef0a46-e6e7-05f9-c84a-22ebf2403e93', name='joke_node', path=('__pregel_pull', 'joke_node'), error=None, interrupts=(), state=None, result={'joke': \"Why did the pasta break up with the olive oil? \\n\\nBecause they just couldn't see eye to eye... and he was too saucy!\"}),), interrupts=()),\n",
       " StateSnapshot(values={}, next=('__start__',), config={'configurable': {'thread_id': '2', 'checkpoint_ns': '', 'checkpoint_id': '1f08b359-174a-6402-bfff-f259f67c8ab9'}}, metadata={'source': 'input', 'step': -1, 'parents': {}}, created_at='2025-09-06T15:24:23.835331+00:00', parent_config=None, tasks=(PregelTask(id='5a593879-63c8-0fce-2332-f6617c55b9e8', name='__start__', path=('__pregel_pull', '__start__'), error=None, interrupts=(), state=None, result={'topic': 'pasta'}),), interrupts=())]"
      ]
     },
     "execution_count": 54,
     "metadata": {},
     "output_type": "execute_result"
    }
   ],
   "source": [
    "list(workflow.get_state_history(config2))"
   ]
  }
 ],
 "metadata": {
  "kernelspec": {
   "display_name": "Python 3",
   "language": "python",
   "name": "python3"
  },
  "language_info": {
   "codemirror_mode": {
    "name": "ipython",
    "version": 3
   },
   "file_extension": ".py",
   "mimetype": "text/x-python",
   "name": "python",
   "nbconvert_exporter": "python",
   "pygments_lexer": "ipython3",
   "version": "3.12.1"
  }
 },
 "nbformat": 4,
 "nbformat_minor": 5
}

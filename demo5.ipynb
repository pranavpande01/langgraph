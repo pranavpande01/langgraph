{
 "cells": [
  {
   "cell_type": "code",
   "execution_count": 2,
   "id": "40e83fbd",
   "metadata": {},
   "outputs": [],
   "source": [
    "from typing import TypedDict, Annotated\n",
    "from pydantic import BaseModel \n",
    "from langchain_core.messages import BaseMessage, HumanMessage\n",
    "from langchain_google_genai import ChatGoogleGenerativeAI\n",
    "from dotenv import load_dotenv\n",
    "from langgraph.graph import StateGraph, START, END\n",
    "from langgraph.graph import add_messages # prebuilt reducer function to append\n",
    "from langgraph.checkpoint.memory import  InMemorySaver #implement persistence in ram\n",
    "\n",
    "load_dotenv()\n",
    "llm=ChatGoogleGenerativeAI(model=\"gemini-2.0-flash-lite\")"
   ]
  },
  {
   "cell_type": "code",
   "execution_count": 3,
   "id": "4b2f25a0",
   "metadata": {},
   "outputs": [],
   "source": [
    "class ChatState(TypedDict):\n",
    "    topic:str\n",
    "    joke:str\n",
    "    explaination:str"
   ]
  },
  {
   "cell_type": "code",
   "execution_count": 5,
   "id": "5b26ae6c",
   "metadata": {},
   "outputs": [],
   "source": [
    "def generate_joke(state:ChatState):\n",
    "    prompt=f\"generate a joke on the topic {state[\"topic\"]}\"\n",
    "    response=llm.invoke(prompt).content\n",
    "\n",
    "    return {'joke':response}\n",
    "  \n",
    "def generate_explaination(state:ChatState):\n",
    "    prompt=f\"write an explaination for the joke:\\n {state[\"joke\"]}\"\n",
    "    response=llm.invoke(prompt).content\n",
    "\n",
    "    return {'explaination':response}\n",
    "  "
   ]
  },
  {
   "cell_type": "code",
   "execution_count": 7,
   "id": "3899e548",
   "metadata": {},
   "outputs": [
    {
     "data": {
      "image/png": "[encoded data removed]",
      "text/plain": [
       "<langgraph.graph.state.CompiledStateGraph object at 0x761a75903650>"
      ]
     },
     "execution_count": 7,
     "metadata": {},
     "output_type": "execute_result"
    }
   ],
   "source": [
    "graph=StateGraph(ChatState)\n",
    "\n",
    "#add nodes\n",
    "graph.add_node('joke_node',generate_joke)\n",
    "graph.add_node('explaination_node',generate_explaination)\n",
    "#add edges\n",
    "graph.add_edge(START,'joke_node')\n",
    "graph.add_edge('joke_node','explaination_node')\n",
    "graph.add_edge(\"explaination_node\",END)\n",
    "\n",
    "graph.compile()"
   ]
  },
  {
   "cell_type": "code",
   "execution_count": 9,
   "id": "97c2c2fa",
   "metadata": {},
   "outputs": [],
   "source": [
    "checkpointer=InMemorySaver()\n",
    "workflow=graph.compile(checkpointer=checkpointer)\n",
    "\n",
    "thread_id='1' # a thread is one interaction with the chatbot, like a session id\n",
    "config = {\n",
    "    \"configurable\": {\n",
    "        \"thread_id\": thread_id\n",
    "    }\n",
    "}\n"
   ]
  },
  {
   "cell_type": "code",
   "execution_count": 10,
   "id": "eccd217d",
   "metadata": {},
   "outputs": [
    {
     "data": {
      "text/plain": [
       "{'topic': 'pizza',\n",
       " 'joke': 'Why did the pizza go to therapy? \\n\\nBecause it had too many *crust issues*!',\n",
       " 'explaination': 'This joke plays on a pun, using the word \"crust\" in two different ways:\\n\\n*   **Literal:** Pizza has a crust, the outer edge of the pizza.\\n*   **Figurative:** \"Crust issues\" sounds like \"trust issues,\" which is a common problem people discuss in therapy.\\n\\nThe joke\\'s humor comes from the unexpected connection between the literal pizza crust and the emotional concept of trust. The absurdity of a pizza needing therapy for something like \"crust issues\" is what makes it funny.'}"
      ]
     },
     "execution_count": 10,
     "metadata": {},
     "output_type": "execute_result"
    }
   ],
   "source": [
    "workflow.invoke(\n",
    "    {\n",
    "        'topic':'pizza'\n",
    "    },\n",
    "    config=config\n",
    ")"
   ]
  },
  {
   "cell_type": "code",
   "execution_count": 11,
   "id": "80493cd0",
   "metadata": {},
   "outputs": [
    {
     "data": {
      "text/plain": [
       "StateSnapshot(values={'topic': 'pizza', 'joke': 'Why did the pizza go to therapy? \\n\\nBecause it had too many *crust issues*!', 'explaination': 'This joke plays on a pun, using the word \"crust\" in two different ways:\\n\\n*   **Literal:** Pizza has a crust, the outer edge of the pizza.\\n*   **Figurative:** \"Crust issues\" sounds like \"trust issues,\" which is a common problem people discuss in therapy.\\n\\nThe joke\\'s humor comes from the unexpected connection between the literal pizza crust and the emotional concept of trust. The absurdity of a pizza needing therapy for something like \"crust issues\" is what makes it funny.'}, next=(), config={'configurable': {'thread_id': '1', 'checkpoint_ns': '', 'checkpoint_id': '1f08b34e-6286-636f-8002-2b8dd78a1c23'}}, metadata={'source': 'loop', 'step': 2, 'parents': {}}, created_at='2025-09-06T15:19:36.445202+00:00', parent_config={'configurable': {'thread_id': '1', 'checkpoint_ns': '', 'checkpoint_id': '1f08b34e-51c2-6e85-8001-d3ce54ead62a'}}, tasks=(), interrupts=())"
      ]
     },
     "execution_count": 11,
     "metadata": {},
     "output_type": "execute_result"
    }
   ],
   "source": [
    "workflow.get_state(config)"
   ]
  },
  {
   "cell_type": "code",
   "execution_count": null,
   "id": "3a40419a",
   "metadata": {},
   "outputs": [
    {
     "data": {
      "text/plain": [
       "[StateSnapshot(values={'topic': 'pizza', 'joke': 'Why did the pizza go to therapy? \\n\\nBecause it had too many *crust issues*!', 'explaination': 'This joke plays on a pun, using the word \"crust\" in two different ways:\\n\\n*   **Literal:** Pizza has a crust, the outer edge of the pizza.\\n*   **Figurative:** \"Crust issues\" sounds like \"trust issues,\" which is a common problem people discuss in therapy.\\n\\nThe joke\\'s humor comes from the unexpected connection between the literal pizza crust and the emotional concept of trust. The absurdity of a pizza needing therapy for something like \"crust issues\" is what makes it funny.'}, next=(), config={'configurable': {'thread_id': '1', 'checkpoint_ns': '', 'checkpoint_id': '1f08b34e-6286-636f-8002-2b8dd78a1c23'}}, metadata={'source': 'loop', 'step': 2, 'parents': {}}, created_at='2025-09-06T15:19:36.445202+00:00', parent_config={'configurable': {'thread_id': '1', 'checkpoint_ns': '', 'checkpoint_id': '1f08b34e-51c2-6e85-8001-d3ce54ead62a'}}, tasks=(), interrupts=()),\n",
       " StateSnapshot(values={'topic': 'pizza', 'joke': 'Why did the pizza go to therapy? \\n\\nBecause it had too many *crust issues*!'}, next=('explaination_node',), config={'configurable': {'thread_id': '1', 'checkpoint_ns': '', 'checkpoint_id': '1f08b34e-51c2-6e85-8001-d3ce54ead62a'}}, metadata={'source': 'loop', 'step': 1, 'parents': {}}, created_at='2025-09-06T15:19:34.687486+00:00', parent_config={'configurable': {'thread_id': '1', 'checkpoint_ns': '', 'checkpoint_id': '1f08b34e-4a35-6c45-8000-42825b5847ec'}}, tasks=(PregelTask(id='993d763b-f01c-5f4f-2b5c-37f7745375ea', name='explaination_node', path=('__pregel_pull', 'explaination_node'), error=None, interrupts=(), state=None, result={'explaination': 'This joke plays on a pun, using the word \"crust\" in two different ways:\\n\\n*   **Literal:** Pizza has a crust, the outer edge of the pizza.\\n*   **Figurative:** \"Crust issues\" sounds like \"trust issues,\" which is a common problem people discuss in therapy.\\n\\nThe joke\\'s humor comes from the unexpected connection between the literal pizza crust and the emotional concept of trust. The absurdity of a pizza needing therapy for something like \"crust issues\" is what makes it funny.'}),), interrupts=()),\n",
       " StateSnapshot(values={'topic': 'pizza'}, next=('joke_node',), config={'configurable': {'thread_id': '1', 'checkpoint_ns': '', 'checkpoint_id': '1f08b34e-4a35-6c45-8000-42825b5847ec'}}, metadata={'source': 'loop', 'step': 0, 'parents': {}}, created_at='2025-09-06T15:19:33.895675+00:00', parent_config={'configurable': {'thread_id': '1', 'checkpoint_ns': '', 'checkpoint_id': '1f08b34e-4a33-6d25-bfff-d788ca9f127a'}}, tasks=(PregelTask(id='17bd61ef-5afe-3910-8fc0-ac4c75fdc151', name='joke_node', path=('__pregel_pull', 'joke_node'), error=None, interrupts=(), state=None, result={'joke': 'Why did the pizza go to therapy? \\n\\nBecause it had too many *crust issues*!'}),), interrupts=()),\n",
       " StateSnapshot(values={}, next=('__start__',), config={'configurable': {'thread_id': '1', 'checkpoint_ns': '', 'checkpoint_id': '1f08b34e-4a33-6d25-bfff-d788ca9f127a'}}, metadata={'source': 'input', 'step': -1, 'parents': {}}, created_at='2025-09-06T15:19:33.894879+00:00', parent_config=None, tasks=(PregelTask(id='1bac81ca-f47d-4e80-d51b-bc552a5e41fb', name='__start__', path=('__pregel_pull', '__start__'), error=None, interrupts=(), state=None, result={'topic': 'pizza'}),), interrupts=())]"
      ]
     },
     "execution_count": 15,
     "metadata": {},
     "output_type": "execute_result"
    }
   ],
   "source": [
    "list(workflow.get_state_history(config))\n",
    "\n",
    "#before end\n",
    "#before explaination\n",
    "#before gegenerate joke\n",
    "#before start"
   ]
  }
 ],
 "metadata": {
  "kernelspec": {
   "display_name": "Python 3",
   "language": "python",
   "name": "python3"
  },
  "language_info": {
   "codemirror_mode": {
    "name": "ipython",
    "version": 3
   },
   "file_extension": ".py",
   "mimetype": "text/x-python",
   "name": "python",
   "nbconvert_exporter": "python",
   "pygments_lexer": "ipython3",
   "version": "3.12.1"
  }
 },
 "nbformat": 4,
 "nbformat_minor": 5
}

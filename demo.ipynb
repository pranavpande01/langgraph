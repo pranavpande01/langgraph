{
 "cells": [
  {
   "cell_type": "code",
   "execution_count": 13,
   "id": "f627a840",
   "metadata": {},
   "outputs": [],
   "source": [
    "from langgraph.graph import StateGraph, START,END\n",
    "from typing import TypedDict"
   ]
  },
  {
   "cell_type": "code",
   "execution_count": 8,
   "id": "6adf3d76",
   "metadata": {},
   "outputs": [],
   "source": [
    "#define state\n",
    "class BMIState(TypedDict):\n",
    "    weight:float\n",
    "    height:float \n",
    "    bmi:float"
   ]
  },
  {
   "cell_type": "code",
   "execution_count": 11,
   "id": "a93fe7e1",
   "metadata": {},
   "outputs": [],
   "source": [
    "def calculate_bmi(state:BMIState)->BMIState:\n",
    "    weight=state[\"weight\"]\n",
    "    height=state[\"height\"]\n",
    "    bmi=weight/(height**2)\n",
    "    state[\"bmi\"]=bmi\n",
    "    return state"
   ]
  },
  {
   "cell_type": "code",
   "execution_count": null,
   "id": "ff9a49cd",
   "metadata": {},
   "outputs": [],
   "source": [
    "#define graph\n",
    "graph=StateGraph(BMIState)\n",
    "\n",
    "#add nodes\n",
    "graph.add_node('calculate_bmi',calculate_bmi)\n",
    "\n",
    "#add edges\n",
    "graph.add_edge(START,'calculate_bmi')\n",
    "graph.add_edge('calculate_bmi',END)\n",
    "\n",
    "#compile graph\n",
    "workflow=graph.compile()\n",
    "\n",
    "#execute graph\n",
    "graph.invoke(\n",
    "    {\n",
    "        'weight':63,\n",
    "        'height':1.78,\n",
    "    }\n",
    ")\n"
   ]
  }
 ],
 "metadata": {
  "kernelspec": {
   "display_name": "Python 3",
   "language": "python",
   "name": "python3"
  },
  "language_info": {
   "codemirror_mode": {
    "name": "ipython",
    "version": 3
   },
   "file_extension": ".py",
   "mimetype": "text/x-python",
   "name": "python",
   "nbconvert_exporter": "python",
   "pygments_lexer": "ipython3",
   "version": "3.12.1"
  }
 },
 "nbformat": 4,
 "nbformat_minor": 5
}
